{
 "cells": [
  {
   "cell_type": "code",
   "execution_count": 1,
   "metadata": {},
   "outputs": [],
   "source": [
    "class CashCard(object):\n",
    "    \"\"\"\n",
    "    CashCard class with bonus\n",
    "    \n",
    "    Class Attributes\n",
    "    -------------------\n",
    "    _BONUS_RATE = 0.01\n",
    "    _BONUS_AMOUNT = 100\n",
    "\n",
    "    Class methods\n",
    "    -------------------\n",
    "    setBonusRate(newRate: float)\n",
    "    setBonusAmount(newAmount: float)\n",
    "\n",
    "    Variable Attributes\n",
    "    --------------------\n",
    "    create card instance with id and balance amount\n",
    "    card1 = CashCard(id: str, amount : float)\n",
    "\n",
    "    property:\n",
    "    id\n",
    "    balance\n",
    "\n",
    "    variable methods\n",
    "    ---------------------\n",
    "    deduct(amount)\n",
    "\n",
    "    topUp(amount)\n",
    "\n",
    "    addBonus(amount) # if amount > _BONUS_AMOUNT --> add _BONUS_AMOUNT * _BONUS_RATE\n",
    "    \"\"\"\n",
    "    _BONUS_RATE = 0.01\n",
    "    _BONUS_AMOUNT = 100\n",
    "    _CURRENT_ID = 1\n",
    "    \n",
    "    def __init__(self, amount):\n",
    "        \"\"\"\n",
    "        id is a str\n",
    "        amount is a float\n",
    "        \"\"\"\n",
    "        self._id = CashCard._CURRENT_ID\n",
    "        CashCard._CURRENT_ID += 1\n",
    "        self._value = amount\n",
    "        self.addBonus(amount)\n",
    "\n",
    "    @classmethod\n",
    "    def setBonusRate(cls, newRate):\n",
    "        cls._BONUS_RATE = newRate\n",
    "\n",
    "    @classmethod\n",
    "    def setBonusAmount(cls, newAmount):\n",
    "        cls._BONUS_AMOUNT = newAmount\n",
    "\n",
    "\n",
    "    @property\n",
    "    def id(self):\n",
    "        return self._id\n",
    "    \n",
    "    @property\n",
    "    def balance(self):\n",
    "        return self._value\n",
    "    \n",
    "    def deduct(self, amount):\n",
    "        if self._value >= amount and amount > 0:\n",
    "            self._value -= amount\n",
    "            return f\"Deducted {amount}, balance : {self.balance}\"\n",
    "        elif self._value < amount:\n",
    "            return \"insufficient balance\"\n",
    "        elif amount < 0:\n",
    "            return \"deduct amount has to be positive\"\n",
    "             \n",
    "\n",
    "    def topUp(self, amount):\n",
    "        if amount <= 0:\n",
    "            return \"topup amt must be greater than 0\"\n",
    "        else:\n",
    "            self._value += amount\n",
    "            self.addBonus(amount)\n",
    "            return f\"topup {amount}, balance: {self.balance}\"\n",
    "\n",
    "    def addBonus(self, amount):\n",
    "        if amount >= CashCard._BONUS_AMOUNT:  # vs if we write if amount >= type(self)._BONUS_AMOUNT\n",
    "            self._value += amount * CashCard._BONUS_RATE # vs self._value += amount * type(self)._BONUS_RATE\n",
    "\n",
    "    def __str__(self):\n",
    "        return \"Id: {} Balance: ${:.2f}\".format(self.id, self.balance)"
   ]
  },
  {
   "cell_type": "code",
   "execution_count": 2,
   "metadata": {},
   "outputs": [
    {
     "name": "stdout",
     "output_type": "stream",
     "text": [
      "1\n",
      "2\n"
     ]
    }
   ],
   "source": [
    "cashcard1 = CashCard(100)\n",
    "cashcard2 = CashCard(200)\n",
    "print(cashcard1._id)\n",
    "print(cashcard2._id)"
   ]
  },
  {
   "cell_type": "markdown",
   "metadata": {},
   "source": [
    "#### How to restart the ID number?\n",
    "- create a new class variable specific to the MemberCashCard class\n",
    "- make use of type(self).class_variable_name to access the class variable"
   ]
  },
  {
   "cell_type": "code",
   "execution_count": 3,
   "metadata": {},
   "outputs": [],
   "source": [
    "class MemberCashCard(CashCard):\n",
    "    def __init__(self, amount):\n",
    "        super().__init__(amount)"
   ]
  },
  {
   "cell_type": "code",
   "execution_count": 4,
   "metadata": {},
   "outputs": [
    {
     "name": "stdout",
     "output_type": "stream",
     "text": [
      "3\n",
      "4\n"
     ]
    }
   ],
   "source": [
    "membercard1 = MemberCashCard(100)\n",
    "membercard2 = MemberCashCard(200)\n",
    "print(membercard1._id)\n",
    "print(membercard2._id)"
   ]
  },
  {
   "cell_type": "markdown",
   "metadata": {},
   "source": [
    "### Method overriding\n",
    "- Method overriding is a feature that allows a subclass to provide a specific implementation of a method that is already provided by one of its superclasses.\n",
    "- When a method in a subclass has the same name, same parameters or signature and same return type as a method in its super-class, then the method in the subclass is said to override the method in the super-class.\n",
    "- ```__str__()```"
   ]
  },
  {
   "cell_type": "code",
   "execution_count": 5,
   "metadata": {},
   "outputs": [],
   "source": [
    "class MemberCashCard(CashCard):\n",
    "    def __init__(self, amount):\n",
    "        # super().__init__(amount)\n",
    "        pass"
   ]
  },
  {
   "cell_type": "code",
   "execution_count": 6,
   "metadata": {},
   "outputs": [
    {
     "name": "stdout",
     "output_type": "stream",
     "text": [
      "{}\n"
     ]
    }
   ],
   "source": [
    "membercard1 = MemberCashCard(100)\n",
    "print(membercard1.__dict__)"
   ]
  },
  {
   "cell_type": "code",
   "execution_count": 7,
   "metadata": {},
   "outputs": [],
   "source": [
    "class MemberCashCard(CashCard):\n",
    "    def __init__(self, amount):\n",
    "        super().__init__(amount)\n",
    "    def __str__(self):\n",
    "        return super().__str__() + \" (Member)\""
   ]
  },
  {
   "cell_type": "code",
   "execution_count": 8,
   "metadata": {},
   "outputs": [
    {
     "name": "stdout",
     "output_type": "stream",
     "text": [
      "Id: 5 Balance: $101.00 (Member)\n"
     ]
    }
   ],
   "source": [
    "membercard1 = MemberCashCard(100)\n",
    "print(membercard1)"
   ]
  },
  {
   "cell_type": "markdown",
   "metadata": {},
   "source": [
    "### Abstract class\n",
    "- An abstract class can be considered as a blueprint for other classes. It allows you to create a set of methods that must be created within any child classes built from the abstract class."
   ]
  },
  {
   "cell_type": "code",
   "execution_count": 9,
   "metadata": {},
   "outputs": [],
   "source": [
    "from abc import ABC, abstractmethod\n",
    "\n",
    "# Define an abstract class (ABC stands for Abstract Base Class)\n",
    "\n",
    "class Shape(ABC):\n",
    "    def __init__(self, length):\n",
    "        self._length = length\n",
    "\n",
    "    @property\n",
    "    def length(self):\n",
    "        return self._length\n",
    "\n",
    "    @abstractmethod\n",
    "    def area(self):\n",
    "        pass\n",
    "\n",
    "    @abstractmethod\n",
    "    def perimeter(self):\n",
    "        pass"
   ]
  },
  {
   "cell_type": "code",
   "execution_count": 10,
   "metadata": {},
   "outputs": [],
   "source": [
    "# Create a concrete subclass of Shape\n",
    "class Circle(Shape):\n",
    "    def __init__(self, length):\n",
    "        super().__init__(length)\n",
    "        self._radius = length\n",
    "\n",
    "    @property\n",
    "    def radius(self):\n",
    "        return self._radius\n",
    "    \n",
    "    def area(self):\n",
    "        return 3.14159 * self.radius ** 2\n",
    "    \n",
    "    def perimeter(self):\n",
    "        return 2 * 3.14159 * self.radius"
   ]
  },
  {
   "cell_type": "code",
   "execution_count": 11,
   "metadata": {},
   "outputs": [],
   "source": [
    "circle = Circle(5)\n"
   ]
  },
  {
   "cell_type": "code",
   "execution_count": 12,
   "metadata": {},
   "outputs": [],
   "source": [
    "# Create another concrete subclass of Shape\n",
    "class Rectangle(Shape):\n",
    "    def __init__(self, length, width):\n",
    "        super().__init__(length)\n",
    "        self._width = width\n",
    "\n",
    "    @property\n",
    "    def width(self):\n",
    "        return self._width\n",
    "    \n",
    "    def area(self):\n",
    "        return self.width * self.length\n",
    "    \n",
    "    def perimeter(self):\n",
    "        return 2 * (self.width + self.length)"
   ]
  },
  {
   "cell_type": "code",
   "execution_count": 13,
   "metadata": {},
   "outputs": [
    {
     "name": "stdout",
     "output_type": "stream",
     "text": [
      "Circle: Area = 78.53975, Circumference = 31.4159\n",
      "rectangle: Area = 32, Perimeter = 24\n"
     ]
    }
   ],
   "source": [
    "# Try to create an instance of the abstract class (will raise an error)\n",
    "# shape = Shape(10)  # This line will raise a TypeError\n",
    "\n",
    "# Create instances of the concrete subclasses\n",
    "rectangle = Rectangle(4, 8)\n",
    "\n",
    "# Calculate and display the areas and perimeters\n",
    "print(f\"Circle: Area = {circle.area()}, Circumference = {circle.perimeter()}\")\n",
    "print(f\"rectangle: Area = {rectangle.area()}, Perimeter = {rectangle.perimeter()}\")"
   ]
  },
  {
   "cell_type": "markdown",
   "metadata": {},
   "source": [
    "### Multiple Inheritance"
   ]
  },
  {
   "cell_type": "code",
   "execution_count": 14,
   "metadata": {},
   "outputs": [],
   "source": [
    "# a plugin class to compute the cost of a product\n",
    "class Product:\n",
    "    def __init__(self, unit_price, quantity):\n",
    "        self._unit_price = unit_price\n",
    "        self._quantity = quantity\n",
    "\n",
    "    @property\n",
    "    def price(self):\n",
    "        return self._unit_price\n",
    "\n",
    "    @property\n",
    "    def quantity(self):\n",
    "        return self._quantity\n",
    "\n",
    "    def cost(self):\n",
    "        return self.price * self.quantity"
   ]
  },
  {
   "cell_type": "code",
   "execution_count": 15,
   "metadata": {},
   "outputs": [],
   "source": [
    "class CircleProduct(Circle, Product):\n",
    "    def __init__(self, length, unit_price, quantity):\n",
    "        Circle.__init__(self, length)\n",
    "        Product.__init__(self, unit_price, quantity)\n",
    "\n",
    "    def product_cost(self):\n",
    "        return self.area() * self.cost()"
   ]
  },
  {
   "cell_type": "code",
   "execution_count": 16,
   "metadata": {},
   "outputs": [
    {
     "name": "stdout",
     "output_type": "stream",
     "text": [
      "1570.795\n"
     ]
    }
   ],
   "source": [
    "productcircle = CircleProduct(5, 10, 2)\n",
    "print(productcircle.product_cost())"
   ]
  },
  {
   "cell_type": "markdown",
   "metadata": {},
   "source": [
    "# Exception Handling"
   ]
  },
  {
   "cell_type": "code",
   "execution_count": 17,
   "metadata": {},
   "outputs": [
    {
     "name": "stdout",
     "output_type": "stream",
     "text": [
      "You entered 2, yay!\n"
     ]
    }
   ],
   "source": [
    "# common case 1 : handle user input\n",
    "# specification: let user enter a number between 1 and 10\n",
    "number = 0\n",
    "while not 1 <= number <= 10:\n",
    "    number = int(input('Enter a number from 1 to 10: '))\n",
    "    if not 1 <= number <= 10:\n",
    "        print('Your number must be from 1 to 10.')\n",
    "    else:\n",
    "        print(f\"You entered {number}, yay!\")"
   ]
  },
  {
   "cell_type": "code",
   "execution_count": 18,
   "metadata": {},
   "outputs": [
    {
     "name": "stdout",
     "output_type": "stream",
     "text": [
      "list index out of range the index range between 0-4\n",
      "list indices must be integers or slices, not str the index must be int\n"
     ]
    }
   ],
   "source": [
    "# common case 2 : index out of range\n",
    "def getNumber(list_of_numbers, index):\n",
    "    try:\n",
    "        number = list_of_numbers[index]\n",
    "    except IndexError as e:\n",
    "        print(f\"{str(e)} the index range between 0-{len(list_of_numbers)-1}\")\n",
    "    except TypeError as e:\n",
    "        print(f\"{str(e)} the index must be int\")\n",
    "    else:\n",
    "        return number\n",
    "\n",
    "\n",
    "list_of_numbers = [1, 2, 3, 4, 5]\n",
    "# IndexError: list index out of range\n",
    "getNumber(list_of_numbers, 5)\n",
    "# TypeError: list indices must be integers or slices, not str\n",
    "getNumber(list_of_numbers, \"a\")"
   ]
  },
  {
   "cell_type": "code",
   "execution_count": 19,
   "metadata": {},
   "outputs": [
    {
     "name": "stdout",
     "output_type": "stream",
     "text": [
      "Result: 10.0\n",
      "Division operation complete.\n"
     ]
    }
   ],
   "source": [
    "# common case 3 : divide by zero\n",
    "def divide_numbers(numerator, denominator):\n",
    "    try:\n",
    "        result = numerator / denominator\n",
    "    except ZeroDivisionError as e:\n",
    "        print(f\"{str(e)}\")\n",
    "    except Exception as e:\n",
    "        print(f\"{str(e)}\")\n",
    "    else:\n",
    "        print(\"Result:\", result)\n",
    "\n",
    "    print(\"Division operation complete.\")\n",
    "    \n",
    "\n",
    "divide_numbers(10, 1)"
   ]
  },
  {
   "cell_type": "code",
   "execution_count": 20,
   "metadata": {},
   "outputs": [
    {
     "name": "stdout",
     "output_type": "stream",
     "text": [
      "begin try\n",
      "end try\n",
      "else block\n",
      "finally block\n"
     ]
    }
   ],
   "source": [
    "x = [1, 2, 3]\n",
    "try:\n",
    "    print('begin try')\n",
    "    index = int(input('Enter index: '))\n",
    "\n",
    "    x[index] = 4 \n",
    "    print('end try')\n",
    "\n",
    "except Exception as e:\n",
    "    print('except block')\n",
    "else:\n",
    "    print('else block')\n",
    "finally:\n",
    "    print('finally block')\n",
    "\n"
   ]
  }
 ],
 "metadata": {
  "kernelspec": {
   "display_name": "Python 3",
   "language": "python",
   "name": "python3"
  },
  "language_info": {
   "codemirror_mode": {
    "name": "ipython",
    "version": 3
   },
   "file_extension": ".py",
   "mimetype": "text/x-python",
   "name": "python",
   "nbconvert_exporter": "python",
   "pygments_lexer": "ipython3",
   "version": "3.10.12"
  }
 },
 "nbformat": 4,
 "nbformat_minor": 2
}
